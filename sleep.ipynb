{
 "cells": [
  {
   "cell_type": "markdown",
   "id": "8aa4fac1",
   "metadata": {},
   "source": [
    "<h1> Sleep Health and Lifestyle </h1>"
   ]
  },
  {
   "cell_type": "markdown",
   "id": "e9a9a973",
   "metadata": {},
   "source": [
    "![Alt Text](Sleep_picture.jpg)"
   ]
  },
  {
   "cell_type": "markdown",
   "id": "06135f5a",
   "metadata": {},
   "source": [
    "<h2> The Problem </h2>\n",
    "\n",
    "Living in today's fast-paced world, sleep has become an overlooked components of our health. Poor sleep habits, rising stress levels, and sedantary routines and increasinly linked to various chronic health problems, however the roots of these sleep habits and disorders remained complex and multidimensional.\n",
    "\n",
    "With this, organization and healthcare providers may need data-driven insights to understand different aspects that contribute to poor sleep, how it differentiates between different demographics, and what interventions are possible that might improve health outcomes.\n",
    "\n",
    "🔍 \n",
    "<i>How can we identify and address the key factors influencing poor sleep quality and sleep disorders across different demographics to support healthier living?</i>"
   ]
  },
  {
   "cell_type": "markdown",
   "id": "290f4391",
   "metadata": {},
   "source": [
    "<h3> Dataset Overview </h3>\n",
    "\n",
    "The dataset consists of 400 indviduals and includes the following variables:\n",
    "\n",
    "- Demographics: Person ID, Age, Gender, Occupation\n",
    "- Sleep Metrics: Sleep Duration, Quality of Sleep (1-10), Sleep Disorder type\n",
    "- Health Indicators: BMI Category, Blood Pressure, Heart Rate (bpm)\n",
    "- Lifestyle Factors: Physical Activity (minutes/day), Stress Level (scale 1-10),"
   ]
  }
 ],
 "metadata": {
  "language_info": {
   "name": "python"
  }
 },
 "nbformat": 4,
 "nbformat_minor": 5
}
